{
 "cells": [
  {
   "cell_type": "markdown",
   "metadata": {},
   "source": [
    "# 1. Backpropagation\n",
    "## a. the dimensions:\n",
    "Steps: \n",
    "1. The hidden layer $h=\\sigma(z_1)$ is a d-dimensional vector (d\\*1), as $h \\in \\mathbb{R}^d$. Additionally, $\\sigma$ is a activation function, so $z_1$ is also a d-dimensional vector (d\\*1). \n",
    "2. $z_1 = W^{(1)}x$, and x is a d-dimensional vector. To get $z_1$ (d\\*1), $W^{(1)}$ needs to be (d\\*d).\n",
    "3. $z_2 = h + x$. Both $h$ and $x$ are (d\\*1) vectors, so $z_2$ is also (d\\*1).\n",
    "4. $y = W^{(2)}z_2$ and $y$ is a single value (1\\*1). $z_2$ is (d\\*1). So $W^{(2)}$ needs to be (1\\*d).\n",
    "Therefore,\n",
    "- $W^{(1)}$: (d\\*d)\n",
    "- $W^{(2)}$: (1\\*d)\n",
    "- $z_1$: (d\\*1)\n",
    "- $z_2$: (d\\*1)\n",
    "."
   ]
  },
  {
   "cell_type": "markdown",
   "metadata": {},
   "source": [
    "## b. number of parameters\n",
    "Parameters lie in the weight matrices. \n",
    "- $W^{(1)}$: (d\\*d) matrix, so d\\*d elements.\n",
    "- $W^{(2)}$: (1\\*d) matrix, so d elements.  \n",
    "  \n",
    "Therefore, the number of parameters in this network is $d^2+d$."
   ]
  },
  {
   "cell_type": "markdown",
   "metadata": {},
   "source": [
    "## c. gradient of loss  \n",
    "- for 1., we simply derive the loss function with respect to y.\n",
    "- for 2.-7., we need to apply the chain rule.\n",
    "1. $$\\bar{y}=\\frac{\\partial\\mathcal{L}}{\\partial y}$$\n",
    "$$=\\frac{\\partial}{\\partial y}(\\frac{1}{2}(y-t)^2)$$\n",
    "$$=y-t$$\n",
    ".  \n",
    "2. $$\\bar{W}^{(2)}=\\frac{\\partial\\mathcal{L}}{\\partial W^{(2)}}$$\n",
    "$$=\\frac{\\partial \\mathcal{L}}{\\partial y}\\frac{\\partial y}{\\partial W^{(2)}}$$\n",
    "$$=(y-t)\\frac{\\partial}{\\partial  W^{(2)}}(W^{(2)}z_2)$$\n",
    "$$=(y-t)z_2^T$$\n",
    ".  \n",
    "3. $$\\bar{z}_2=\\frac{\\partial\\mathcal{L}}{\\partial z_2}$$\n",
    "$$=\\frac{\\partial \\mathcal{L}}{\\partial y}\\frac{\\partial y}{\\partial z_2}$$\n",
    "$$=(y-t)\\frac{\\partial}{\\partial  z_2}(W^{(2)}z_2)$$\n",
    "$$=(y-t)W^{(2)T}$$\n",
    ".  \n",
    "4. $$\\bar{h}=\\frac{\\partial\\mathcal{L}}{\\partial h}$$\n",
    "$$=\\frac{\\partial \\mathcal{L}}{\\partial z_2}\\frac{\\partial z_2}{\\partial h}$$\n",
    "$$=(y-t)W^{(2)T}\\frac{\\partial}{\\partial h}(h+x)$$\n",
    "$$=(y-t)W^{(2)T}I_d$$\n",
    "$$=(y-t)W^{(2)T}$$\n",
    ".  \n",
    "5. $$\\bar{z}_1=\\frac{\\partial\\mathcal{L}}{\\partial z_1}$$\n",
    "$$=\\frac{\\partial \\mathcal{L}}{\\partial h}\\frac{\\partial h}{\\partial z_1}$$\n",
    "$$=(y-t)W^{(2)T}\\frac{\\partial}{\\partial z_1}(\\sigma(z_1))$$\n",
    "$$=(y-t)W^{(2)T}\\sigma'(z_1)$$\n",
    ".  \n",
    "6. $$\\bar{W}^{(1)}=\\frac{\\partial\\mathcal{L}}{\\partial W^{(1)}}$$\n",
    "$$=\\frac{\\partial \\mathcal{L}}{\\partial z_1}\\frac{\\partial z_1}{\\partial W^{(1)}}$$\n",
    "$$=(y-t)W^{(2)T}\\frac{\\partial }{\\partial W^{(1)}}(W^{(1)}x)$$\n",
    "$$=(y-t)W^{(2)T}\\sigma'(z_1)x^T$$\n",
    ".  \n",
    "7. $$\\bar{x}=\\frac{\\partial\\mathcal{L}}{\\partial x}$$\n",
    "$$=\\frac{\\partial \\mathcal{L}}{\\partial z_1}\\frac{\\partial z_1}{\\partial x}$$\n",
    "$$=(y-t)W^{(2)T}\\frac{\\partial }{\\partial x}(W^{(1)}x)$$\n",
    "$$=(y-t)W^{(2)T}\\sigma'(z_1)W^{(1)T}$$\n",
    ".  \n",
    "\n",
    "\n",
    "\n",
    "\n"
   ]
  },
  {
   "cell_type": "markdown",
   "metadata": {},
   "source": []
  },
  {
   "cell_type": "code",
   "execution_count": null,
   "metadata": {},
   "outputs": [],
   "source": []
  },
  {
   "cell_type": "code",
   "execution_count": null,
   "metadata": {},
   "outputs": [],
   "source": []
  },
  {
   "cell_type": "markdown",
   "metadata": {},
   "source": [
    "---\n",
    "# 2. TBD"
   ]
  },
  {
   "cell_type": "markdown",
   "metadata": {},
   "source": [
    "---\n",
    "# 3. Class-Conditional Gaussians\n",
    "## 3.1 Bayes Rule\n",
    "$$p(y=k|x,\\mu,\\sigma)=\\frac{p(y=k)p(x|y=k,\\mu,\\sigma)}{p(x)}$$\n",
    "$$=\\frac{\\alpha_k \\cdot (\\Pi^D_{i=1} 2\\pi \\sigma_i^2)^{-\\frac{1}{2}}\\cdot \\exp({-\\sum^D_{i=1}\\frac{(x_i-\\mu_{ki})^2}{2\\sigma_i^2}})}{p(x)}$$\n",
    "- For p(x), we apply the law of total probability:\n",
    "$$p(x) = \\sum_k p(x|y_k)p(y_k)$$\n",
    "$$=\\sum_k \\alpha_k \\cdot (\\Pi^D_{i=1} 2\\pi \\sigma_i^2)^{-\\frac{1}{2}}\\cdot \\exp({-\\sum^D_{i=1}\\frac{(x_i-\\mu_{ki})^2}{2\\sigma_i^2}})$$\n",
    "- Therefore, \n",
    "$$p(y=k|x,\\mu,\\sigma) = \\frac{\\alpha_k \\cdot (\\Pi^D_{i=1} 2\\pi \\sigma_i^2)^{-\\frac{1}{2}}\\cdot \\exp({-\\sum^D_{i=1}\\frac{(x_i-\\mu_{ki})^2}{2\\sigma_i^2}})}{\\sum_k \\alpha_k \\cdot (\\Pi^D_{i=1} 2\\pi \\sigma_i^2)^{-\\frac{1}{2}}\\cdot \\exp({-\\sum^D_{i=1}\\frac{(x_i-\\mu_{ki})^2}{2\\sigma_i^2}})}$$\n",
    ".\n"
   ]
  },
  {
   "cell_type": "markdown",
   "metadata": {},
   "source": [
    "## 3.2 Negative Log Likelihood Function\n",
    "- Since we assume i.i.d., the likelihood function can be written as the joint probability:\n",
    "$$p(y^{(1)},x^{(1)},...,y^{(N)},x^{(N)}|\\theta)$$\n",
    "$$=\\Pi^N_{n=1}p(y^{(n)},x^{(n)})|\\theta)$$\n",
    "- each probability term can be further written as:\n",
    "$$p(y^{(n)},x^{(n)})|\\theta) = p(y^{(n)}|\\theta)\\cdot p(x^{(n)}|y^{(n)},\\theta)$$\n",
    "$$=\\texttt{prior}\\cdot \\texttt{likelihood}$$\n",
    "- in other words, it is the posterior without normalization. The joint probability is thus written as:\n",
    "$$\\Pi^N_{n=1} [\\alpha_n \\cdot (\\Pi^D_{i=1} 2\\pi \\sigma_i^2)^{-\\frac{1}{2}}\\cdot \\exp({-\\sum^D_{i=1}\\frac{(x_i-\\mu_{ki})^2}{2\\sigma_i^2}})]$$\n",
    "- Therefore, the negative log likelihood is\n",
    "$$\\ell (\\theta;D) = -\\log p(y^{(1)},x^{(1)},...,y^{(N)},x^{(N)}|\\theta)$$\n",
    "$$=-\\log [\\Pi^N_{n=1} [\\alpha_n \\cdot (\\Pi^D_{i=1} 2\\pi \\sigma_i^2)^{-\\frac{1}{2}}\\cdot \\exp({-\\sum^D_{i=1}\\frac{(x_i-\\mu_{ki})^2}{2\\sigma_i^2}})]]$$\n",
    "$$=-[\\sum^N_{n=1} [\\log [\\alpha_n \\cdot (\\Pi^D_{i=1} 2\\pi \\sigma_i^2)^{-\\frac{1}{2}}\\cdot \\exp({-\\sum^D_{i=1}\\frac{(x_i-\\mu_{ki})^2}{2\\sigma_i^2}})]]]$$\n",
    "$$=-[\\sum^N_{n=1} [\\log \\alpha_n -\\frac{1}{2} \\log (\\Pi^D_{i=1} 2\\pi \\sigma_i^2) -\\sum^D_{i=1}\\frac{(x_i-\\mu_{ki})^2}{2\\sigma_i^2}]]$$\n",
    "$$=-[\\sum^N_{n=1} [\\log \\alpha_n -\\frac{1}{2} \\sum^D_{i=1}\\log (2\\pi \\sigma_i^2) -\\sum^D_{i=1}\\frac{(x_i-\\mu_{ki})^2}{2\\sigma_i^2}]]$$\n",
    "$$=-\\sum^N_{n=1} \\log \\alpha_n + \\frac{1}{2}\\sum^N_{n=1} \\sum^D_{i=1}\\log (2\\pi \\sigma_i^2) +\\sum^N_{n=1}\\sum^D_{i=1}\\frac{(x_i-\\mu_{ki})^2}{2\\sigma_i^2}$$\n",
    ".\n"
   ]
  },
  {
   "cell_type": "markdown",
   "metadata": {},
   "source": [
    "## 3.3 partial derivatives\n",
    "$$\\ell (\\theta;D) = -\\sum^N_{n=1} \\log \\alpha_n + \\frac{1}{2}\\sum^N_{n=1} \\sum^D_{i=1}\\log (2\\pi \\sigma_i^2) +\\sum^N_{n=1}\\sum^D_{i=1}\\frac{(x_i-\\mu_{ki})^2}{2\\sigma_i^2}$$"
   ]
  },
  {
   "cell_type": "markdown",
   "metadata": {},
   "source": [
    "### 3.3.1 partial derivative of NLL w.r.t mean (mu_ki)\n",
    "$$\\frac{\\partial \\ell (\\theta;D)}{\\partial \\mu_{ki}}$$\n",
    "$$=\\frac{\\partial}{\\partial \\mu_{ki}}(0+0+\\sum^N_{n=1}\\sum^D_{i=1}\\frac{(x_i-\\mu_{ki})^2}{2\\sigma_i^2})$$\n",
    "- first, we try to calculate the simplified form:   \n",
    "$ \\frac{\\partial}{\\partial \\mu}\\frac{(x-\\mu)^2}{2\\sigma^2}$   \n",
    "$=\\frac{1}{2\\sigma^2}\\cdot 2(x-\\mu)\\cdot (-1)$  \n",
    "$= -\\frac{x-\\mu}{\\sigma^2}$  \n",
    ".   \n",
    "\n",
    "So, \n",
    "$$\\frac{\\partial}{\\partial \\mu_{ki}}(\\sum^N_{n=1}\\sum^D_{i=1}\\frac{(x_i-\\mu_{ki})^2}{2\\sigma_i^2})$$\n",
    "$$=-\\frac{x_i-\\mu_{ki}}{\\sigma^2_i}$$\n",
    ".\n",
    "  \n",
    "\n",
    "\n"
   ]
  },
  {
   "cell_type": "markdown",
   "metadata": {},
   "source": [
    "### 3.3.2 partial derivative of NLL w.r.t shared variance (sigma_i square)\n",
    "$$\\frac{\\partial \\ell (\\theta;D)}{\\partial \\sigma_i^2}$$\n",
    "$$=\\frac{\\partial}{\\partial \\sigma_i^2}(0+\\frac{1}{2}\\sum^N_{n=1} \\sum^D_{i=1}\\log (2\\pi \\sigma_i^2)+\\sum^N_{n=1}\\sum^D_{i=1}\\frac{(x_i-\\mu_{ki})^2}{2\\sigma_i^2})$$\n",
    "$$=\\frac{\\partial}{\\partial \\sigma_i^2}(\\frac{1}{2}\\sum^N_{n=1} \\sum^D_{i=1}\\log (2\\pi \\sigma_i^2)  +  \\sum^N_{n=1}\\sum^D_{i=1}\\frac{(x_i-\\mu_{ki})^2}{2\\sigma_i^2})$$\n",
    "- for the first term $\\frac{1}{2}\\sum^N_{n=1}\\sum^D_{i=1} \\log (2\\pi\\sigma_i^2)$:  \n",
    "$\\frac{\\partial}{\\partial \\sigma_i^2} \\frac{1}{2}\\sum^N_{n=1}\\sum^D_{i=1} \\log (2\\pi\\sigma_i^2)$   \n",
    "$=\\frac{1}{2}\\sum^N_{n=1} \\frac{2\\pi}{2\\pi\\sigma_i^2}$  \n",
    "$=\\frac{N}{2\\sigma_i^2}$  \n",
    "- for the second term: $\\sum^N_{n=1}\\sum^D_{i=1}\\frac{(x_i-\\mu_{ki})^2}{2\\sigma_i^2})$:  \n",
    "$\\frac{\\partial}{\\partial \\sigma_i^2} \\sum^N_{n=1}\\sum^D_{i=1}\\frac{(x_i-\\mu_{ki})^2}{2\\sigma_i^2}$    \n",
    "$=\\sum^N_{n=1} (-\\frac{(x_i-\\mu_{ki})^2}{2}\\cdot \\frac{1}{(\\sigma_i^2)^2})$  \n",
    "$=-\\frac{1}{2(\\sigma_i^2)^2} \\sum^N_{n=1}(x_i-\\mu_{ki})^2$  \n",
    "  \n",
    "Therefore, \n",
    "$$\\frac{\\partial \\ell (\\theta;D)}{\\partial \\sigma_i^2}$$\n",
    "$$=\\frac{N}{2\\sigma_i^2} - \\frac{1}{2(\\sigma_i^2)^2} \\sum^N_{n=1}(x_i-\\mu_{ki})^2$$\n",
    ".\n",
    "\n"
   ]
  },
  {
   "cell_type": "markdown",
   "metadata": {},
   "source": [
    "## 3.4.MLE \n",
    "### 3.4.1 MLE of mu\n",
    "$$-\\frac{x_i-\\mu_{ki}}{\\sigma^2_i} = 0$$\n",
    "$$\\mu_{ki} = x_i$$\n",
    "This means the MLE of $\\mu$ is equal to the average of $x_i$ for y == class k."
   ]
  },
  {
   "cell_type": "markdown",
   "metadata": {},
   "source": [
    "### 3.4.2 MLE of sigma\n",
    "$$\\frac{N}{2\\sigma_i^2} - \\frac{1}{2(\\sigma_i^2)^2} \\sum^N_{n=1}(x_i-\\mu_{ki})^2 = 0$$\n",
    "$$\\frac{N}{2\\sigma_i^2} = \\frac{1}{2(\\sigma_i^2)^2} \\sum^N_{n=1}(x_i-\\mu_{ki})^2$$\n",
    "$$N\\sigma_i^2 = \\sum^N_{n=1}(x_i-\\mu_{ki})^2$$\n",
    "$$\\sigma_i = \\sqrt{\\frac{1}{N} \\sum^N_{n=1}(x_i-\\mu_{ki})^2}$$\n",
    "This indicates that the MLE of $\\sigma_i$ is the standard deviation of feature $i$ across all samples.\n",
    "\n",
    "\n"
   ]
  },
  {
   "cell_type": "markdown",
   "metadata": {},
   "source": [
    "---\n",
    "# 4. Handwritten digit classification \n"
   ]
  },
  {
   "cell_type": "code",
   "execution_count": 30,
   "metadata": {},
   "outputs": [],
   "source": [
    "from hw3_startercode import data\n",
    "\n",
    "import pandas as pd\n",
    "import numpy as np\n",
    "import matplotlib.pyplot as plt\n",
    "import seaborn as sns\n",
    "\n",
    "import torch\n",
    "import torch.nn as nn\n",
    "import torch.optim as optim\n",
    "from torch.utils.data import DataLoader, TensorDataset\n"
   ]
  },
  {
   "cell_type": "markdown",
   "metadata": {},
   "source": [
    "## 4.1 multi-layer perceptron classifier\n"
   ]
  },
  {
   "cell_type": "code",
   "execution_count": 46,
   "metadata": {},
   "outputs": [
    {
     "data": {
      "image/png": "[encoded data removed]",
      "text/plain": [
       "<Figure size 640x480 with 1 Axes>"
      ]
     },
     "metadata": {},
     "output_type": "display_data"
    }
   ],
   "source": [
    "# a. load the data & plot the means\n",
    "train_data, train_labels, test_data, test_labels = data.load_all_data_from_zip('hw3_startercode/a3digits.zip','hw3_startercode/loaded_data/')\n",
    "# for i in [train_data, train_labels, test_data, test_labels]:\n",
    "#     print(i.shape)\n",
    "\n",
    "def plot_means(train_data, train_labels):\n",
    "    means = []\n",
    "    for i in range(0, 10):\n",
    "        i_digits = data.get_digits_by_label(train_data, train_labels, i)\n",
    "        # Compute mean of class i\n",
    "        means.append(np.mean(i_digits, axis=0).reshape(8,8))\n",
    "\n",
    "    # Plot all means on same axis\n",
    "    all_concat = np.concatenate(means, 1)\n",
    "    plt.imshow(all_concat, cmap='gray')\n",
    "    plt.yticks([])\n",
    "    plt.xticks(ticks=np.arange(0,73,8),labels=range(10))\n",
    "    plt.show()\n",
    "\n",
    "plot_means(train_data, train_labels)"
   ]
  },
  {
   "cell_type": "code",
   "execution_count": 38,
   "metadata": {},
   "outputs": [
    {
     "name": "stderr",
     "output_type": "stream",
     "text": [
      "/var/folders/4f/yqk707nn61d0n9l9qmlg7f4w0000gn/T/ipykernel_38455/3321900236.py:3: UserWarning: To copy construct from a tensor, it is recommended to use sourceTensor.clone().detach() or sourceTensor.clone().detach().requires_grad_(True), rather than torch.tensor(sourceTensor).\n",
      "  train_data = torch.tensor(train_data, dtype=torch.float32)\n",
      "/var/folders/4f/yqk707nn61d0n9l9qmlg7f4w0000gn/T/ipykernel_38455/3321900236.py:4: UserWarning: To copy construct from a tensor, it is recommended to use sourceTensor.clone().detach() or sourceTensor.clone().detach().requires_grad_(True), rather than torch.tensor(sourceTensor).\n",
      "  train_labels = torch.tensor(train_labels, dtype=torch.long)\n",
      "/var/folders/4f/yqk707nn61d0n9l9qmlg7f4w0000gn/T/ipykernel_38455/3321900236.py:5: UserWarning: To copy construct from a tensor, it is recommended to use sourceTensor.clone().detach() or sourceTensor.clone().detach().requires_grad_(True), rather than torch.tensor(sourceTensor).\n",
      "  test_data = torch.tensor(test_data, dtype=torch.float32)\n",
      "/var/folders/4f/yqk707nn61d0n9l9qmlg7f4w0000gn/T/ipykernel_38455/3321900236.py:6: UserWarning: To copy construct from a tensor, it is recommended to use sourceTensor.clone().detach() or sourceTensor.clone().detach().requires_grad_(True), rather than torch.tensor(sourceTensor).\n",
      "  test_labels = torch.tensor(test_labels, dtype=torch.long)\n"
     ]
    },
    {
     "name": "stdout",
     "output_type": "stream",
     "text": [
      "i: Varying Depth\n",
      "Depth: 0, Train Accuracy: 0.9103, Test Accuracy: 0.9040\n",
      "Depth: 1, Train Accuracy: 0.9536, Test Accuracy: 0.9475\n",
      "Depth: 2, Train Accuracy: 0.9549, Test Accuracy: 0.9425\n",
      "Depth: 3, Train Accuracy: 0.9669, Test Accuracy: 0.9553\n",
      "Depth: 4, Train Accuracy: 0.9746, Test Accuracy: 0.9535\n",
      "Depth: 5, Train Accuracy: 0.9684, Test Accuracy: 0.9485\n",
      "Depth: 6, Train Accuracy: 0.9687, Test Accuracy: 0.9467\n",
      "Depth: 7, Train Accuracy: 0.9624, Test Accuracy: 0.9395\n",
      "Depth: 8, Train Accuracy: 0.9563, Test Accuracy: 0.9310\n",
      "Depth: 9, Train Accuracy: 0.9430, Test Accuracy: 0.9167\n",
      "Depth: 10, Train Accuracy: 0.9374, Test Accuracy: 0.9127\n",
      "\n",
      "ii: Varying Width\n",
      "Width: 2, Train Accuracy: 0.3613, Test Accuracy: 0.3600\n",
      "Width: 4, Train Accuracy: 0.6791, Test Accuracy: 0.6753\n",
      "Width: 8, Train Accuracy: 0.8559, Test Accuracy: 0.8480\n",
      "Width: 16, Train Accuracy: 0.9277, Test Accuracy: 0.9220\n",
      "Width: 32, Train Accuracy: 0.9519, Test Accuracy: 0.9413\n",
      "Width: 64, Train Accuracy: 0.9603, Test Accuracy: 0.9500\n",
      "Width: 128, Train Accuracy: 0.9793, Test Accuracy: 0.9613\n",
      "Width: 256, Train Accuracy: 0.9927, Test Accuracy: 0.9677\n",
      "Width: 512, Train Accuracy: 0.9949, Test Accuracy: 0.9680\n",
      "Width: 1024, Train Accuracy: 0.9971, Test Accuracy: 0.9735\n"
     ]
    }
   ],
   "source": [
    "# b. multi layer perceptron neural network\n",
    "\n",
    "train_data_tensor = torch.tensor(train_data, dtype=torch.float32)\n",
    "train_labels_tensor = torch.tensor(train_labels, dtype=torch.long)\n",
    "test_data_tensor = torch.tensor(test_data, dtype=torch.float32)\n",
    "test_labels_tensor = torch.tensor(test_labels, dtype=torch.long)\n",
    "\n",
    "train_dataset = TensorDataset(train_data_tensor, train_labels_tensor)\n",
    "test_dataset = TensorDataset(test_data_tensor, test_labels_tensor)\n",
    "train_loader = DataLoader(train_dataset, batch_size=32, shuffle=True)\n",
    "test_loader = DataLoader(test_dataset, batch_size=32, shuffle=False)\n",
    "\n",
    "def build_mlp(input_size, hidden_layers, output_size):\n",
    "    layers = []\n",
    "    in_features = input_size\n",
    "    for hidden_size in hidden_layers:\n",
    "        layers.append(nn.Linear(in_features, hidden_size))\n",
    "        layers.append(nn.ReLU())\n",
    "        in_features = hidden_size\n",
    "    layers.append(nn.Linear(in_features, output_size))\n",
    "    return nn.Sequential(*layers)\n",
    "\n",
    "def evaluate_accuracy(model, loader, device):\n",
    "    correct = 0\n",
    "    total = 0\n",
    "    with torch.no_grad():\n",
    "        for data, labels in loader:\n",
    "            data, labels = data.to(device), labels.to(device)\n",
    "            outputs = model(data)\n",
    "            _, predicted = torch.max(outputs.data, 1)\n",
    "            total += labels.size(0)\n",
    "            correct += (predicted == labels).sum().item()\n",
    "    return correct / total\n",
    "\n",
    "def train_and_evaluate_model(model, train_loader, test_loader, criterion, optimizer, epochs=10):\n",
    "    device = torch.device(\"cuda\" if torch.cuda.is_available() else \"cpu\")\n",
    "    model.to(device)\n",
    "    \n",
    "    for epoch in range(epochs):\n",
    "        model.train()\n",
    "        for data, labels in train_loader:\n",
    "            data, labels = data.to(device), labels.to(device)\n",
    "            optimizer.zero_grad()\n",
    "            outputs = model(data)\n",
    "            loss = criterion(outputs, labels)\n",
    "            loss.backward()\n",
    "            optimizer.step()\n",
    "\n",
    "    model.eval()\n",
    "    train_accuracy = evaluate_accuracy(model, train_loader, device)\n",
    "    test_accuracy = evaluate_accuracy(model, test_loader, device)\n",
    "    return train_accuracy, test_accuracy\n",
    "\n",
    "# Experiment i: Varying the depth of the network with Kw = 64\n",
    "input_size = 64\n",
    "output_size = 10\n",
    "width = 64  # Kw\n",
    "criterion = nn.CrossEntropyLoss()\n",
    "\n",
    "print(\"i: Varying Depth\")\n",
    "for depth in range(0, 11):\n",
    "    hidden_layers = [width] * depth\n",
    "    model = build_mlp(input_size, hidden_layers, output_size)\n",
    "    optimizer = optim.Adam(model.parameters(), lr=0.001)\n",
    "    train_acc, test_acc = train_and_evaluate_model(model, train_loader, test_loader, criterion, optimizer)\n",
    "    print(f\"Depth: {depth}, Train Accuracy: {train_acc:.4f}, Test Accuracy: {test_acc:.4f}\")\n",
    "\n",
    "# Experiment ii: Varying the width of the network with Kd = 3\n",
    "depth = 3  # Kd\n",
    "criterion = nn.CrossEntropyLoss()\n",
    "\n",
    "print(\"\\nii: Varying Width\")\n",
    "for width in [2, 4, 8, 16, 32, 64, 128, 256, 512, 1024]:\n",
    "    hidden_layers = [width] * depth\n",
    "    model = build_mlp(input_size, hidden_layers, output_size)\n",
    "    optimizer = optim.Adam(model.parameters(), lr=0.001)\n",
    "    train_acc, test_acc = train_and_evaluate_model(model, train_loader, test_loader, criterion, optimizer)\n",
    "    print(f\"Width: {width}, Train Accuracy: {train_acc:.4f}, Test Accuracy: {test_acc:.4f}\")\n"
   ]
  },
  {
   "cell_type": "markdown",
   "metadata": {},
   "source": [
    "# <span style=\"color: red; font-weight: bold;\">4.1 NOT DONE</span>\n"
   ]
  },
  {
   "cell_type": "markdown",
   "metadata": {},
   "source": [
    "## 4.2 Conditional Gaussian Classifier Training"
   ]
  },
  {
   "cell_type": "code",
   "execution_count": 58,
   "metadata": {},
   "outputs": [],
   "source": [
    "# starter code & functions \n",
    "\n",
    "def make_train_df(train_data, train_labels):\n",
    "    data_df = pd.DataFrame(train_data)\n",
    "    labels_df = pd.DataFrame(train_labels, columns=['label'])\n",
    "    train_df = pd.concat([data_df, labels_df], axis=1)\n",
    "    return train_df\n",
    "\n",
    "def compute_mean_mles(train_data, train_labels):\n",
    "    '''\n",
    "    make sure the inputs are both np.arrays instead of tensors\n",
    "    Compute the mean estimate for each digit class\n",
    "\n",
    "    Should return a numpy array of size (10,64)\n",
    "    The ith row will correspond to the mean estimate for digit class i\n",
    "    '''\n",
    "    means = np.zeros((10, 64))\n",
    "    # Compute means\n",
    "    train_df = make_train_df(train_data,train_labels)\n",
    "    means = train_df.groupby('label').mean().sort_index().to_numpy()\n",
    "    return means # shape: (10,64); row 1 being 0 all the way to row 10 being 9\n",
    "\n",
    "def compute_sigma_mles(train_data, train_labels):\n",
    "    '''\n",
    "    Compute the covariance estimate for each digit class\n",
    "\n",
    "    Should return a three dimensional numpy array of shape (10, 64, 64)\n",
    "    consisting of a covariance matrix for each digit class \n",
    "    '''\n",
    "    covariances = np.zeros((10, 64, 64))\n",
    "    # Compute covariances\n",
    "    train_df = make_train_df(train_data,train_labels)\n",
    "    means = compute_mean_mles(train_data,train_labels) #(10,64)\n",
    "    for idx, (label, group) in enumerate(train_df.sort_values(by='label').reset_index(drop=True).groupby('label')):\n",
    "        # labels are sorted so groups are in ascending order\n",
    "        X = group.drop(columns='label') # (700*16)\n",
    "        N = X.shape[0] # 700 cases for every digit\n",
    "        cov = ((X-means[idx]).T @ (X-means[idx])) / (N) + 0.01*np.eye(64) # (64,64)\n",
    "        covariances[idx] = cov \n",
    "    return covariances\n",
    "\n",
    "def plot_cov_diagonal(covariances):\n",
    "    # Plot the log-diagonal of each covariance matrix side by side\n",
    "    fix,ax = plt.subplots(1,10,figsize=(15,1.5))\n",
    "    for i in range(10):\n",
    "        cov_diag = np.diag(covariances[i])\n",
    "        log_cov_diag = np.log(cov_diag)\n",
    "        ax[i].plot(log_cov_diag)\n",
    "        ax[i].set_title(f'{i}')\n",
    "    plt.tight_layout()\n",
    "    plt.show()\n",
    "\n",
    "def generative_likelihood(digits, means, covariances):\n",
    "    '''\n",
    "    digits: basically the training data (7000*64)\n",
    "    means: the means of the 64 features of 10 digits, fro 0 to 9 (10*64)\n",
    "    covariancs: the cov matrices of the 10 digits, from 0 to 9 (10*64*64)\n",
    "\n",
    "    Compute the generative log-likelihood:\n",
    "        log p(x|y,mu,Sigma)\n",
    "\n",
    "    Should return an n x 10 numpy array (n=7000)\n",
    "    '''\n",
    "    n,d = digits.shape # (7000,64)\n",
    "    log_likelihoods = np.zeros((n,10))\n",
    "\n",
    "    for i in range(10):\n",
    "        mu = means[i] # (64,)\n",
    "        cov = covariances[i] # (64,64)\n",
    "        diff = digits - mu # (7000,64)\n",
    "        \n",
    "        # take the log on the gaussian pdf \n",
    "        # for the exponential term (-1/2 (x-mu)T cov-1 (x-mu)), rewrite it to the sum of (x-mu) @ cov-1 * (x-mu)\n",
    "        log_pdf = -d*np.log(2*np.pi)/2 - np.log(np.linalg.det(cov))/2 - np.sum(diff @ np.linalg.inv(cov) * diff, axis=1)/2 # (7000,)\n",
    "        log_likelihoods[:,i] = log_pdf\n",
    "\n",
    "    return log_likelihoods # (7000,10)\n",
    "\n",
    "def conditional_likelihood(digits, means, covariances):\n",
    "    '''\n",
    "    Compute the conditional likelihood:\n",
    "\n",
    "        log p(y|x, mu, Sigma)\n",
    "\n",
    "    This should be a numpy array of shape (n, 10); for training set, n = 7000; it should also be generalized to/usable for any test point\n",
    "    Where n is the number of datapoints and 10 corresponds to each digit class\n",
    "    '''\n",
    "\n",
    "    # log posterior = log prior + log likelihood - log marginal likelihood \n",
    "    log_likelihoods = generative_likelihood(digits,means,covariances) #(7000*10) for training set\n",
    "    log_prior = np.log(1/10) #scalar\n",
    "\n",
    "    # marginal likelihood = sum of prior*likelihood = sum of (exp(log prior + log likelihood))\n",
    "    # remember to put the log back for consistency (we're doing log for all {prior,likelihood,posterior} here)\n",
    "    log_marg = np.log(np.sum(np.exp(log_prior+log_likelihoods),axis=1)) #(7000,) for training\n",
    "\n",
    "    # use [:, np.newaxis] to broadcast the n values onto every column (each col has n rows)\n",
    "    log_post = log_prior + log_likelihoods - log_marg[:, np.newaxis]\n",
    "\n",
    "    return log_post #(n*10); in Bayesian sense it is the posterior, but we'll just call it log likelihood in general\n",
    "\n",
    "def avg_conditional_likelihood(digits, labels, means, covariances):\n",
    "    '''\n",
    "    Compute the average conditional likelihood over the true class labels\n",
    "\n",
    "        AVG( log p(y_i|x_i, mu, Sigma) )\n",
    "\n",
    "    i.e. the average log likelihood that the model assigns to the correct class label\n",
    "    '''\n",
    "    cond_likelihood = conditional_likelihood(digits, means, covariances)\n",
    "    df = pd.DataFrame(cond_likelihood)\n",
    "    df['label'] = labels \n",
    "\n",
    "    for idx, row in df.iterrows():\n",
    "        label = row['label']\n",
    "        row[:10] = np.where(row.index[:10] == label, row[:10], np.nan)\n",
    "    \n",
    "    df.drop(columns = 'label', inplace=True)\n",
    "    avg_log_likelihood= df.mean(skipna=True).to_numpy() #(10,) which is the avg of each digit\n",
    "\n",
    "    return avg_log_likelihood\n",
    "\n",
    "def classify_data(digits, means, covariances):\n",
    "    '''\n",
    "    Classify new points by taking the most likely posterior class\n",
    "\n",
    "    digits here can be a test set with arbitrary test points (n)\n",
    "    '''\n",
    "    cond_likelihood = conditional_likelihood(digits, means, covariances)\n",
    "    # Compute and return the most likely class\n",
    "    preds = np.argmax(cond_likelihood, axis=1) #(n,)\n",
    "    return preds \n",
    "\n",
    "def eval(train_data, train_labels, test_data, test_labels):\n",
    "    # Fit the model\n",
    "    means = compute_mean_mles(train_data, train_labels)\n",
    "    covariances = compute_sigma_mles(train_data, train_labels)\n",
    "\n",
    "    # evaluations \n",
    "    train_avg_log_likelihood = avg_conditional_likelihood(train_data,train_labels,means,covariances)\n",
    "    test_avg_log_likelihood = avg_conditional_likelihood(test_data,test_labels,means,covariances)\n",
    "\n",
    "    return train_avg_log_likelihood,test_avg_log_likelihood"
   ]
  },
  {
   "cell_type": "code",
   "execution_count": 59,
   "metadata": {},
   "outputs": [
    {
     "data": {
      "text/plain": [
       "(array([-68.44287442, -70.13945305, -41.62222054, -50.82867237,\n",
       "        -69.97228534, -54.30875425, -72.06776304, -94.20807654,\n",
       "        -41.30376327, -75.36902074]),\n",
       " array([-67.03794923, -68.69549892, -40.30804267, -49.77817925,\n",
       "        -68.32725777, -53.14823765, -70.3088478 , -92.55286247,\n",
       "        -40.18664621, -73.97151365]))"
      ]
     },
     "execution_count": 59,
     "metadata": {},
     "output_type": "execute_result"
    }
   ],
   "source": [
    "eval(train_data, train_labels, test_data, test_labels)"
   ]
  },
  {
   "cell_type": "code",
   "execution_count": null,
   "metadata": {},
   "outputs": [],
   "source": []
  },
  {
   "cell_type": "code",
   "execution_count": null,
   "metadata": {},
   "outputs": [],
   "source": []
  },
  {
   "cell_type": "code",
   "execution_count": 49,
   "metadata": {},
   "outputs": [
    {
     "data": {
      "image/png": "[encoded data removed]",
      "text/plain": [
       "<Figure size 1500x150 with 10 Axes>"
      ]
     },
     "metadata": {},
     "output_type": "display_data"
    }
   ],
   "source": [
    "covariances = compute_sigma_mles(train_data,train_labels)\n",
    "plot_cov_diagonal(covariances)"
   ]
  },
  {
   "cell_type": "code",
   "execution_count": null,
   "metadata": {},
   "outputs": [],
   "source": []
  },
  {
   "cell_type": "code",
   "execution_count": null,
   "metadata": {},
   "outputs": [],
   "source": [
    "# 4.1.a\n",
    "\n",
    "prior = 1/10\n",
    "\n",
    "def get_cov(X):\n",
    "    '''\n",
    "    X is a training-set-like matrix where each col is a feature, and each row is an observation\n",
    "    Cov(X) = 1/(N-1) (X-Xbar)T (X-Xbar)\n",
    "    '''\n",
    "    N = X.shape[0]\n",
    "    X_bar = np.mean(X,axis=0) \n",
    "    return ((X-X_bar).T @ (X-X_bar)) / (N-1) + 0.01*np.eye(64)\n",
    "\n",
    "def mv_gaussian_pdf(x, mu, sigma):\n",
    "    d = x.shape[0]\n",
    "    return (2*np.pi)**(-d/2) * np.linalg.det(sigma)**(-1/2) * np.exp((-1/2)*(x-mu).T @ np.linalg.inv(sigma) @ (x-mu))\n"
   ]
  },
  {
   "cell_type": "code",
   "execution_count": 56,
   "metadata": {},
   "outputs": [
    {
     "data": {
      "text/html": [
       "<div>\n",
       "<style scoped>\n",
       "    .dataframe tbody tr th:only-of-type {\n",
       "        vertical-align: middle;\n",
       "    }\n",
       "\n",
       "    .dataframe tbody tr th {\n",
       "        vertical-align: top;\n",
       "    }\n",
       "\n",
       "    .dataframe thead th {\n",
       "        text-align: right;\n",
       "    }\n",
       "</style>\n",
       "<table border=\"1\" class=\"dataframe\">\n",
       "  <thead>\n",
       "    <tr style=\"text-align: right;\">\n",
       "      <th></th>\n",
       "      <th>0</th>\n",
       "      <th>1</th>\n",
       "      <th>2</th>\n",
       "      <th>shi</th>\n",
       "    </tr>\n",
       "  </thead>\n",
       "  <tbody>\n",
       "    <tr>\n",
       "      <th>0</th>\n",
       "      <td>0.0</td>\n",
       "      <td>0.0</td>\n",
       "      <td>0.0</td>\n",
       "      <td>a</td>\n",
       "    </tr>\n",
       "    <tr>\n",
       "      <th>1</th>\n",
       "      <td>0.0</td>\n",
       "      <td>0.0</td>\n",
       "      <td>0.0</td>\n",
       "      <td>d</td>\n",
       "    </tr>\n",
       "    <tr>\n",
       "      <th>2</th>\n",
       "      <td>0.0</td>\n",
       "      <td>0.0</td>\n",
       "      <td>0.0</td>\n",
       "      <td>f</td>\n",
       "    </tr>\n",
       "    <tr>\n",
       "      <th>3</th>\n",
       "      <td>0.0</td>\n",
       "      <td>0.0</td>\n",
       "      <td>0.0</td>\n",
       "      <td>g</td>\n",
       "    </tr>\n",
       "    <tr>\n",
       "      <th>4</th>\n",
       "      <td>0.0</td>\n",
       "      <td>0.0</td>\n",
       "      <td>0.0</td>\n",
       "      <td>h</td>\n",
       "    </tr>\n",
       "  </tbody>\n",
       "</table>\n",
       "</div>"
      ],
      "text/plain": [
       "     0    1    2 shi\n",
       "0  0.0  0.0  0.0   a\n",
       "1  0.0  0.0  0.0   d\n",
       "2  0.0  0.0  0.0   f\n",
       "3  0.0  0.0  0.0   g\n",
       "4  0.0  0.0  0.0   h"
      ]
     },
     "execution_count": 56,
     "metadata": {},
     "output_type": "execute_result"
    }
   ],
   "source": [
    "arr = np.zeros((5,3))\n",
    "\n",
    "arr\n",
    "dfdf = pd.DataFrame(arr)\n",
    "shibal = np.array(['a','d','f','g','h'])\n",
    "dfdf['shi'] = shibal\n",
    "dfdf\n",
    "dfdf.at[2,'shi']\n",
    "dfdf"
   ]
  },
  {
   "cell_type": "code",
   "execution_count": null,
   "metadata": {},
   "outputs": [],
   "source": []
  }
 ],
 "metadata": {
  "kernelspec": {
   "display_name": "cpsc330",
   "language": "python",
   "name": "python3"
  },
  "language_info": {
   "codemirror_mode": {
    "name": "ipython",
    "version": 3
   },
   "file_extension": ".py",
   "mimetype": "text/x-python",
   "name": "python",
   "nbconvert_exporter": "python",
   "pygments_lexer": "ipython3",
   "version": "3.10.0"
  }
 },
 "nbformat": 4,
 "nbformat_minor": 2
}
